{
  "nbformat": 4,
  "nbformat_minor": 0,
  "metadata": {
    "colab": {
      "provenance": []
    },
    "kernelspec": {
      "name": "python3",
      "display_name": "Python 3"
    },
    "language_info": {
      "name": "python"
    }
  },
  "cells": [
    {
      "cell_type": "code",
      "execution_count": null,
      "metadata": {
        "id": "TVeW3PVNqJ9t"
      },
      "outputs": [],
      "source": [
        "import sqlite3"
      ]
    },
    {
      "cell_type": "code",
      "source": [
        "# Step 1: Connect to SQLite DB\n",
        "conn = sqlite3.connect('sample.db')  # Creates db if it doesn't exist\n",
        "cursor = conn.cursor()"
      ],
      "metadata": {
        "id": "-pn3SM2-qRGP"
      },
      "execution_count": null,
      "outputs": []
    },
    {
      "cell_type": "code",
      "source": [
        "# Step 2: Create table (if not exists)\n",
        "cursor.execute('''CREATE TABLE IF NOT EXISTS students (\n",
        "                    id INTEGER PRIMARY KEY,\n",
        "                    name TEXT,\n",
        "                    age INTEGER)''')"
      ],
      "metadata": {
        "colab": {
          "base_uri": "https://localhost:8080/"
        },
        "id": "Otfcs0k8qhYW",
        "outputId": "0f7aad3f-a253-4701-daa2-0c3501e60dc5"
      },
      "execution_count": null,
      "outputs": [
        {
          "output_type": "execute_result",
          "data": {
            "text/plain": [
              "<sqlite3.Cursor at 0x7915eb24a4c0>"
            ]
          },
          "metadata": {},
          "execution_count": 3
        }
      ]
    },
    {
      "cell_type": "code",
      "source": [
        "# Step 3: Insert sample data\n",
        "cursor.execute(\"INSERT INTO students (name, age) VALUES ('John', 22)\")\n",
        "cursor.execute(\"INSERT INTO students (name, age) VALUES ('Alice', 24)\")\n",
        "conn.commit()"
      ],
      "metadata": {
        "id": "svZC3mLFqj5Z"
      },
      "execution_count": null,
      "outputs": []
    },
    {
      "cell_type": "code",
      "source": [
        "# Step 4: Read data\n",
        "cursor.execute(\"SELECT * FROM students\")\n",
        "rows = cursor.fetchall()\n",
        "\n",
        "# Step 5: Display results\n",
        "for row in rows:\n",
        "    print(row)\n",
        "\n",
        "# Step 6: Close connection\n",
        "conn.close()"
      ],
      "metadata": {
        "colab": {
          "base_uri": "https://localhost:8080/"
        },
        "id": "OGJd38QmqoXX",
        "outputId": "d26fdb84-e1c0-4f05-e5a4-765e79f9a9e8"
      },
      "execution_count": null,
      "outputs": [
        {
          "output_type": "stream",
          "name": "stdout",
          "text": [
            "(1, 'John', 22)\n",
            "(2, 'Alice', 24)\n"
          ]
        }
      ]
    }
  ]
}